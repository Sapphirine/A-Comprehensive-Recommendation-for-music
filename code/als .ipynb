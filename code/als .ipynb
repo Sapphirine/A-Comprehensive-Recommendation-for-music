{
 "cells": [
  {
   "cell_type": "markdown",
   "metadata": {},
   "source": [
    "# ALS Recommendation\n",
    "### Data import"
   ]
  },
  {
   "cell_type": "code",
   "execution_count": 1,
   "metadata": {},
   "outputs": [],
   "source": [
    "# tell jupyter where pyspark is\n",
    "import findspark\n",
    "findspark.init()"
   ]
  },
  {
   "cell_type": "code",
   "execution_count": 17,
   "metadata": {},
   "outputs": [],
   "source": [
    "from pyspark.ml.evaluation import RegressionEvaluator\n",
    "from pyspark.ml.recommendation import ALS\n",
    "from pyspark.ml.regression import LinearRegression\n",
    "from pyspark.sql import Row\n",
    "from pyspark.sql import SparkSession\n",
    "from pyspark import SparkContext\n",
    "from pyspark.ml.feature import IndexToString, StringIndexer\n",
    "import pandas as pd\n"
   ]
  },
  {
   "cell_type": "code",
   "execution_count": 3,
   "metadata": {},
   "outputs": [],
   "source": [
    "df_r = pd.read_csv('./rating.csv',index_col=None)"
   ]
  },
  {
   "cell_type": "code",
   "execution_count": 4,
   "metadata": {},
   "outputs": [],
   "source": [
    "df_ = pd.read_csv('./rating_recommendation.csv',index_col=False)"
   ]
  },
  {
   "cell_type": "code",
   "execution_count": 5,
   "metadata": {},
   "outputs": [
    {
     "data": {
      "text/html": [
       "<div>\n",
       "<style scoped>\n",
       "    .dataframe tbody tr th:only-of-type {\n",
       "        vertical-align: middle;\n",
       "    }\n",
       "\n",
       "    .dataframe tbody tr th {\n",
       "        vertical-align: top;\n",
       "    }\n",
       "\n",
       "    .dataframe thead th {\n",
       "        text-align: right;\n",
       "    }\n",
       "</style>\n",
       "<table border=\"1\" class=\"dataframe\">\n",
       "  <thead>\n",
       "    <tr style=\"text-align: right;\">\n",
       "      <th></th>\n",
       "      <th>b80344d063b5ccb3212f76538f3d9e43d87dca9e</th>\n",
       "      <th>SOBBMDR12A8C13253B</th>\n",
       "      <th>2</th>\n",
       "    </tr>\n",
       "  </thead>\n",
       "  <tbody>\n",
       "    <tr>\n",
       "      <th>0</th>\n",
       "      <td>b80344d063b5ccb3212f76538f3d9e43d87dca9e</td>\n",
       "      <td>SOBXHDL12A81C204C0</td>\n",
       "      <td>1</td>\n",
       "    </tr>\n",
       "    <tr>\n",
       "      <th>1</th>\n",
       "      <td>b80344d063b5ccb3212f76538f3d9e43d87dca9e</td>\n",
       "      <td>SOCNMUH12A6D4F6E6D</td>\n",
       "      <td>1</td>\n",
       "    </tr>\n",
       "    <tr>\n",
       "      <th>2</th>\n",
       "      <td>b80344d063b5ccb3212f76538f3d9e43d87dca9e</td>\n",
       "      <td>SODXRTY12AB0180F3B</td>\n",
       "      <td>1</td>\n",
       "    </tr>\n",
       "    <tr>\n",
       "      <th>3</th>\n",
       "      <td>b80344d063b5ccb3212f76538f3d9e43d87dca9e</td>\n",
       "      <td>SOHQWYZ12A6D4FA701</td>\n",
       "      <td>1</td>\n",
       "    </tr>\n",
       "    <tr>\n",
       "      <th>4</th>\n",
       "      <td>b80344d063b5ccb3212f76538f3d9e43d87dca9e</td>\n",
       "      <td>SOIYTOA12A6D4F9A23</td>\n",
       "      <td>1</td>\n",
       "    </tr>\n",
       "  </tbody>\n",
       "</table>\n",
       "</div>"
      ],
      "text/plain": [
       "   b80344d063b5ccb3212f76538f3d9e43d87dca9e  SOBBMDR12A8C13253B  2\n",
       "0  b80344d063b5ccb3212f76538f3d9e43d87dca9e  SOBXHDL12A81C204C0  1\n",
       "1  b80344d063b5ccb3212f76538f3d9e43d87dca9e  SOCNMUH12A6D4F6E6D  1\n",
       "2  b80344d063b5ccb3212f76538f3d9e43d87dca9e  SODXRTY12AB0180F3B  1\n",
       "3  b80344d063b5ccb3212f76538f3d9e43d87dca9e  SOHQWYZ12A6D4FA701  1\n",
       "4  b80344d063b5ccb3212f76538f3d9e43d87dca9e  SOIYTOA12A6D4F9A23  1"
      ]
     },
     "execution_count": 5,
     "metadata": {},
     "output_type": "execute_result"
    }
   ],
   "source": [
    "df_.head()"
   ]
  },
  {
   "cell_type": "markdown",
   "metadata": {},
   "source": [
    "### Feature selection"
   ]
  },
  {
   "cell_type": "code",
   "execution_count": 6,
   "metadata": {},
   "outputs": [],
   "source": [
    "SparkConf().setMaster(\"master\").setAppName(\"ALSExample\")\n",
    "spark = SparkSession.builder.config(conf=SparkConf())"
   ]
  },
  {
   "cell_type": "code",
   "execution_count": 7,
   "metadata": {},
   "outputs": [],
   "source": [
    "# Load data as RDD, then transform it to DataFrame format\n",
    "lines = spark.read.text(\"./rating_recommendation.csv\").rdd\n",
    "parts = lines.map(lambda row: row.value.split(\",\"))\n",
    "ratingsRDD = parts.map(lambda p: Row(userId=str(p[0]), songID=str(p[1]),\n",
    "                                     play_count=int(p[2])))"
   ]
  },
  {
   "cell_type": "code",
   "execution_count": 8,
   "metadata": {},
   "outputs": [],
   "source": [
    "rating = spark.createDataFrame(ratingsRDD)"
   ]
  },
  {
   "cell_type": "code",
   "execution_count": 9,
   "metadata": {},
   "outputs": [
    {
     "name": "stdout",
     "output_type": "stream",
     "text": [
      "+----------+------------------+--------------------+-------------+\n",
      "|play_count|            songID|              userId|userId_digtal|\n",
      "+----------+------------------+--------------------+-------------+\n",
      "|         2|SOBBMDR12A8C13253B|b80344d063b5ccb32...|     197276.0|\n",
      "|         1|SOBXHDL12A81C204C0|b80344d063b5ccb32...|     197276.0|\n",
      "|         1|SOCNMUH12A6D4F6E6D|b80344d063b5ccb32...|     197276.0|\n",
      "|         1|SODXRTY12AB0180F3B|b80344d063b5ccb32...|     197276.0|\n",
      "|         1|SOHQWYZ12A6D4FA701|b80344d063b5ccb32...|     197276.0|\n",
      "+----------+------------------+--------------------+-------------+\n",
      "only showing top 5 rows\n",
      "\n"
     ]
    }
   ],
   "source": [
    "indexer = StringIndexer(inputCol=\"userId\",outputCol = \"userId_digtal\")\n",
    "indexed = indexer.fit(rating).transform(rating)\n",
    "indexed.show(5)"
   ]
  },
  {
   "cell_type": "code",
   "execution_count": 10,
   "metadata": {},
   "outputs": [
    {
     "name": "stdout",
     "output_type": "stream",
     "text": [
      "+----------+------------------+--------------------+-------------+\n",
      "|play_count|            songID|              userId|userId_digtal|\n",
      "+----------+------------------+--------------------+-------------+\n",
      "|         2|SOBBMDR12A8C13253B|b80344d063b5ccb32...|     197276.0|\n",
      "|         1|SOBXHDL12A81C204C0|b80344d063b5ccb32...|     197276.0|\n",
      "|         1|SOCNMUH12A6D4F6E6D|b80344d063b5ccb32...|     197276.0|\n",
      "+----------+------------------+--------------------+-------------+\n",
      "only showing top 3 rows\n",
      "\n"
     ]
    }
   ],
   "source": [
    "indexed.show(3)"
   ]
  },
  {
   "cell_type": "code",
   "execution_count": 11,
   "metadata": {},
   "outputs": [
    {
     "name": "stdout",
     "output_type": "stream",
     "text": [
      "+----------+------------------+--------------------+-------------+-------------+\n",
      "|play_count|            songID|              userId|userId_digtal|songId_digtal|\n",
      "+----------+------------------+--------------------+-------------+-------------+\n",
      "|         2|SOBBMDR12A8C13253B|b80344d063b5ccb32...|     197276.0|       1175.0|\n",
      "|         1|SOBXHDL12A81C204C0|b80344d063b5ccb32...|     197276.0|         70.0|\n",
      "|         1|SOCNMUH12A6D4F6E6D|b80344d063b5ccb32...|     197276.0|       5007.0|\n",
      "|         1|SODXRTY12AB0180F3B|b80344d063b5ccb32...|     197276.0|        165.0|\n",
      "|         1|SOHQWYZ12A6D4FA701|b80344d063b5ccb32...|     197276.0|       2603.0|\n",
      "+----------+------------------+--------------------+-------------+-------------+\n",
      "only showing top 5 rows\n",
      "\n"
     ]
    }
   ],
   "source": [
    "feature = StringIndexer(inputCol=\"songID\",outputCol=\"songId_digtal\")\n",
    "indexed2 = feature.fit(rating).transform(indexed)\n",
    "indexed2.show(5)"
   ]
  },
  {
   "cell_type": "code",
   "execution_count": 12,
   "metadata": {},
   "outputs": [],
   "source": [
    "(training, test) = indexed2.randomSplit([0.8, 0.2])"
   ]
  },
  {
   "cell_type": "code",
   "execution_count": 13,
   "metadata": {},
   "outputs": [],
   "source": [
    "# Build the recommendation model using ALS on the training data\n",
    "\n",
    "als = ALS(maxIter=10, regParam=0.3, userCol=\"userId_digtal\", itemCol=\"songId_digtal\", ratingCol=\"play_count\",\n",
    "          coldStartStrategy=\"drop\")\n",
    "model = als.fit(training)"
   ]
  },
  {
   "cell_type": "code",
   "execution_count": 14,
   "metadata": {},
   "outputs": [
    {
     "name": "stdout",
     "output_type": "stream",
     "text": [
      "Root-mean-square error = 12.952059997398477\n"
     ]
    }
   ],
   "source": [
    "# Make predictions and output a RMSE to check the precision\n",
    "predictions = model.transform(test)\n",
    "evaluator = RegressionEvaluator(metricName=\"rmse\", labelCol=\"play_count\",\n",
    "                                predictionCol=\"prediction\")\n",
    "rmse = evaluator.evaluate(predictions)\n",
    "print(\"Root-mean-square error = \" + str(rmse))"
   ]
  },
  {
   "cell_type": "code",
   "execution_count": 15,
   "metadata": {},
   "outputs": [
    {
     "name": "stdout",
     "output_type": "stream",
     "text": [
      "+-------------+--------------------+\n",
      "|userId_digtal|     recommendations|\n",
      "+-------------+--------------------+\n",
      "|          148|[[9825, 625.0377]...|\n",
      "|          463|[[9835, 68.95866]...|\n",
      "|          471|[[9835, 319.26242...|\n",
      "|          496|[[9835, 253.67091...|\n",
      "|          833|[[9835, 218.59013...|\n",
      "+-------------+--------------------+\n",
      "only showing top 5 rows\n",
      "\n"
     ]
    }
   ],
   "source": [
    "userRecs = model.recommendForAllUsers(10)\n",
    "userRecs.show(5)"
   ]
  },
  {
   "cell_type": "code",
   "execution_count": 16,
   "metadata": {},
   "outputs": [],
   "source": [
    "# Recommend 5 users for top 6 songs\n",
    "users = indexed2.select(als.getUserCol()).distinct().limit(6)\n",
    "userSubsetRecs = model.recommendForUserSubset(users, 6)"
   ]
  },
  {
   "cell_type": "markdown",
   "metadata": {},
   "source": [
    "## Deal with Output"
   ]
  },
  {
   "cell_type": "code",
   "execution_count": 18,
   "metadata": {},
   "outputs": [],
   "source": [
    "matrix = [[row[0]]+row[1] for row in song_]\n",
    "result = []\n",
    "for row in matrix:\n",
    "    tmp = [row[0]]\n",
    "    for j in row[1:]:\n",
    "        tmp.append(j[0])\n",
    "    result.append(tmp)"
   ]
  },
  {
   "cell_type": "code",
   "execution_count": 19,
   "metadata": {},
   "outputs": [],
   "source": [
    "sc =SparkContext(conf=spark)\n",
    "row = Row('user_ID','song_ID1','song_ID2','song_ID3','song_ID4','song_ID5','song_ID6')\n",
    "df_output = SparkContext.parallelize([row(result[0][i],result[1][i],result[2][i],result[3][i], \\\n",
    "                                           result[4][i],result[5][i]) for i in range(5)]).toDF() "
   ]
  },
  {
   "cell_type": "code",
   "execution_count": 20,
   "metadata": {},
   "outputs": [],
   "source": [
    "## get their original id\n",
    "converter = IndexToString(inputCol=\"user_ID\", outputCol=\"user_id\")\n",
    "converted = converter.transform(df_test)\n",
    "for x in range(6):\n",
    "    converter = IndexToString(inputCol=\"song_ID\"+str(x+1), outputCol=\"song_id\"+str(x+1))\n",
    "    converted = converter.transform(df_test)   "
   ]
  },
  {
   "cell_type": "code",
   "execution_count": 21,
   "metadata": {},
   "outputs": [],
   "source": [
    "final_result=converted[['user_id']+['song_id'+str(i) for i in range(6)]]\n",
    "final_result.to_csv('./CF_Recommendation.csv',index=False)"
   ]
  },
  {
   "cell_type": "code",
   "execution_count": 25,
   "metadata": {},
   "outputs": [
    {
     "data": {
      "text/html": [
       "<div>\n",
       "<style scoped>\n",
       "    .dataframe tbody tr th:only-of-type {\n",
       "        vertical-align: middle;\n",
       "    }\n",
       "\n",
       "    .dataframe tbody tr th {\n",
       "        vertical-align: top;\n",
       "    }\n",
       "\n",
       "    .dataframe thead th {\n",
       "        text-align: right;\n",
       "    }\n",
       "</style>\n",
       "<table border=\"1\" class=\"dataframe\">\n",
       "  <thead>\n",
       "    <tr style=\"text-align: right;\">\n",
       "      <th></th>\n",
       "      <th>user_id</th>\n",
       "      <th>song_id1</th>\n",
       "      <th>song_id2</th>\n",
       "      <th>song_id3</th>\n",
       "      <th>song_id4</th>\n",
       "      <th>song_id5</th>\n",
       "      <th>song_id6</th>\n",
       "    </tr>\n",
       "  </thead>\n",
       "  <tbody>\n",
       "    <tr>\n",
       "      <th>0</th>\n",
       "      <td>d6589314c0a9bcbca4fee0c93b14bc402363afea</td>\n",
       "      <td>SOFCQWJ12AB0185041</td>\n",
       "      <td>SOWCKVR12A8C142411</td>\n",
       "      <td>SOKLRPJ12A8C13C3FE</td>\n",
       "      <td>SOIIUWE12A8C132FCB</td>\n",
       "      <td>SOFNZIF12AC3DF5590</td>\n",
       "      <td>SOIOZHO12AB017FE5E</td>\n",
       "    </tr>\n",
       "    <tr>\n",
       "      <th>1</th>\n",
       "      <td>3f152d355d53865a2ca27ac5ceeffb7ebaea0a26</td>\n",
       "      <td>SOVDSJC12A58A7A271</td>\n",
       "      <td>SOAXGDH12A8C13F8A1</td>\n",
       "      <td>SOAUWYT12A81C206F1</td>\n",
       "      <td>SOXWYZP12AF72A42A6</td>\n",
       "      <td>SOIJAMG12A8AE47E21</td>\n",
       "      <td>SOPAYPV12AB017DB0C</td>\n",
       "    </tr>\n",
       "    <tr>\n",
       "      <th>2</th>\n",
       "      <td>b61afb42335287239bd40e1dea50d849cbf8a9a9</td>\n",
       "      <td>SOIOZHO12AB017FE5E</td>\n",
       "      <td>SOOXXCA12A8C139214</td>\n",
       "      <td>SOBOAFP12A8C131F36</td>\n",
       "      <td>SOAVJKT12AB0185C6D</td>\n",
       "      <td>SOPUCYA12A8C13A694</td>\n",
       "      <td>SOKLRPJ12A8C13C3FE</td>\n",
       "    </tr>\n",
       "    <tr>\n",
       "      <th>3</th>\n",
       "      <td>884209a41deb55df792f074bccf8af1c1c31768b</td>\n",
       "      <td>SOMGIYR12AB0187973</td>\n",
       "      <td>SOIJAMG12A8AE47E21</td>\n",
       "      <td>SOWKEUN12AF72AB837</td>\n",
       "      <td>SOHFJAQ12AB017E4AF</td>\n",
       "      <td>SOXWYZP12AF72A42A6</td>\n",
       "      <td>SOIOZHO12AB017FE5E</td>\n",
       "    </tr>\n",
       "    <tr>\n",
       "      <th>4</th>\n",
       "      <td>9b887e10a4711486085c4fae2d2599fc0d2c484d</td>\n",
       "      <td>SOKLRPJ12A8C13C3FE</td>\n",
       "      <td>SOMRYYN12A6310F0F3</td>\n",
       "      <td>SOTLVSV12A8C136E8D</td>\n",
       "      <td>SOLLNTU12A6701CFDC</td>\n",
       "      <td>SOBOAFP12A8C131F36</td>\n",
       "      <td>SOHFJAQ12AB017E4AF</td>\n",
       "    </tr>\n",
       "  </tbody>\n",
       "</table>\n",
       "</div>"
      ],
      "text/plain": [
       "                                    user_id            song_id1  \\\n",
       "0  d6589314c0a9bcbca4fee0c93b14bc402363afea  SOFCQWJ12AB0185041   \n",
       "1  3f152d355d53865a2ca27ac5ceeffb7ebaea0a26  SOVDSJC12A58A7A271   \n",
       "2  b61afb42335287239bd40e1dea50d849cbf8a9a9  SOIOZHO12AB017FE5E   \n",
       "3  884209a41deb55df792f074bccf8af1c1c31768b  SOMGIYR12AB0187973   \n",
       "4  9b887e10a4711486085c4fae2d2599fc0d2c484d  SOKLRPJ12A8C13C3FE   \n",
       "\n",
       "             song_id2            song_id3            song_id4  \\\n",
       "0  SOWCKVR12A8C142411  SOKLRPJ12A8C13C3FE  SOIIUWE12A8C132FCB   \n",
       "1  SOAXGDH12A8C13F8A1  SOAUWYT12A81C206F1  SOXWYZP12AF72A42A6   \n",
       "2  SOOXXCA12A8C139214  SOBOAFP12A8C131F36  SOAVJKT12AB0185C6D   \n",
       "3  SOIJAMG12A8AE47E21  SOWKEUN12AF72AB837  SOHFJAQ12AB017E4AF   \n",
       "4  SOMRYYN12A6310F0F3  SOTLVSV12A8C136E8D  SOLLNTU12A6701CFDC   \n",
       "\n",
       "             song_id5            song_id6  \n",
       "0  SOFNZIF12AC3DF5590  SOIOZHO12AB017FE5E  \n",
       "1  SOIJAMG12A8AE47E21  SOPAYPV12AB017DB0C  \n",
       "2  SOPUCYA12A8C13A694  SOKLRPJ12A8C13C3FE  \n",
       "3  SOXWYZP12AF72A42A6  SOIOZHO12AB017FE5E  \n",
       "4  SOBOAFP12A8C131F36  SOHFJAQ12AB017E4AF  "
      ]
     },
     "execution_count": 25,
     "metadata": {},
     "output_type": "execute_result"
    }
   ],
   "source": [
    "present = pd.read_csv('./CF_Recommendation.csv',index_col=False)\n",
    "present.head()"
   ]
  },
  {
   "cell_type": "code",
   "execution_count": null,
   "metadata": {},
   "outputs": [],
   "source": []
  }
 ],
 "metadata": {
  "kernelspec": {
   "display_name": "Python 3",
   "language": "python",
   "name": "python3"
  },
  "language_info": {
   "codemirror_mode": {
    "name": "ipython",
    "version": 3
   },
   "file_extension": ".py",
   "mimetype": "text/x-python",
   "name": "python",
   "nbconvert_exporter": "python",
   "pygments_lexer": "ipython3",
   "version": "3.6.4"
  }
 },
 "nbformat": 4,
 "nbformat_minor": 2
}
