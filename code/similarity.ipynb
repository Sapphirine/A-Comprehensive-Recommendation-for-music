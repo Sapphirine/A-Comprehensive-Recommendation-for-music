{
 "cells": [
  {
   "cell_type": "markdown",
   "metadata": {},
   "source": [
    "# Content-based recommendation"
   ]
  },
  {
   "cell_type": "code",
   "execution_count": 1,
   "metadata": {},
   "outputs": [],
   "source": [
    "import numpy as np\n",
    "import pandas as pd"
   ]
  },
  {
   "cell_type": "markdown",
   "metadata": {},
   "source": [
    "### Read and clean raw data"
   ]
  },
  {
   "cell_type": "code",
   "execution_count": 3,
   "metadata": {},
   "outputs": [
    {
     "name": "stdout",
     "output_type": "stream",
     "text": [
      "<class 'pandas.core.frame.DataFrame'>\n",
      "Int64Index: 9840 entries, 0 to 9839\n",
      "Data columns (total 91 columns):\n",
      "song_id               9839 non-null object\n",
      "TimbreAvg1            9839 non-null float64\n",
      "TimbreAvg2            9839 non-null float64\n",
      "TimbreAvg3            9839 non-null float64\n",
      "TimbreAvg4            9839 non-null float64\n",
      "TimbreAvg5            9839 non-null float64\n",
      "TimbreAvg6            9839 non-null float64\n",
      "TimbreAvg7            9839 non-null float64\n",
      "TimbreAvg8            9839 non-null float64\n",
      "TimbreAvg9            9839 non-null float64\n",
      "TimbreAvg10           9839 non-null float64\n",
      "TimbreAvg11           9839 non-null float64\n",
      "TimbreAvg12           9839 non-null float64\n",
      "TimbreCovariance1     9839 non-null float64\n",
      "TimbreCovariance2     9839 non-null float64\n",
      "TimbreCovariance3     9839 non-null float64\n",
      "TimbreCovariance4     9839 non-null float64\n",
      "TimbreCovariance5     9839 non-null float64\n",
      "TimbreCovariance6     9839 non-null float64\n",
      "TimbreCovariance7     9839 non-null float64\n",
      "TimbreCovariance8     9839 non-null float64\n",
      "TimbreCovariance9     9839 non-null float64\n",
      "TimbreCovariance10    9839 non-null float64\n",
      "TimbreCovariance11    9839 non-null float64\n",
      "TimbreCovariance12    9839 non-null float64\n",
      "TimbreCovariance13    9839 non-null float64\n",
      "TimbreCovariance14    9839 non-null float64\n",
      "TimbreCovariance15    9839 non-null float64\n",
      "TimbreCovariance16    9839 non-null float64\n",
      "TimbreCovariance17    9839 non-null float64\n",
      "TimbreCovariance18    9839 non-null float64\n",
      "TimbreCovariance19    9839 non-null float64\n",
      "TimbreCovariance20    9839 non-null float64\n",
      "TimbreCovariance21    9839 non-null float64\n",
      "TimbreCovariance22    9839 non-null float64\n",
      "TimbreCovariance23    9839 non-null float64\n",
      "TimbreCovariance24    9839 non-null float64\n",
      "TimbreCovariance25    9839 non-null float64\n",
      "TimbreCovariance26    9839 non-null float64\n",
      "TimbreCovariance27    9839 non-null float64\n",
      "TimbreCovariance28    9839 non-null float64\n",
      "TimbreCovariance29    9839 non-null float64\n",
      "TimbreCovariance30    9839 non-null float64\n",
      "TimbreCovariance31    9839 non-null float64\n",
      "TimbreCovariance32    9839 non-null float64\n",
      "TimbreCovariance33    9839 non-null float64\n",
      "TimbreCovariance34    9839 non-null float64\n",
      "TimbreCovariance35    9839 non-null float64\n",
      "TimbreCovariance36    9839 non-null float64\n",
      "TimbreCovariance37    9839 non-null float64\n",
      "TimbreCovariance38    9839 non-null float64\n",
      "TimbreCovariance39    9839 non-null float64\n",
      "TimbreCovariance40    9839 non-null float64\n",
      "TimbreCovariance41    9839 non-null float64\n",
      "TimbreCovariance42    9839 non-null float64\n",
      "TimbreCovariance43    9839 non-null float64\n",
      "TimbreCovariance44    9839 non-null float64\n",
      "TimbreCovariance45    9839 non-null float64\n",
      "TimbreCovariance46    9839 non-null float64\n",
      "TimbreCovariance47    9839 non-null float64\n",
      "TimbreCovariance48    9839 non-null float64\n",
      "TimbreCovariance49    9839 non-null float64\n",
      "TimbreCovariance50    9839 non-null float64\n",
      "TimbreCovariance51    9839 non-null float64\n",
      "TimbreCovariance52    9839 non-null float64\n",
      "TimbreCovariance53    9839 non-null float64\n",
      "TimbreCovariance54    9839 non-null float64\n",
      "TimbreCovariance55    9839 non-null float64\n",
      "TimbreCovariance56    9839 non-null float64\n",
      "TimbreCovariance57    9839 non-null float64\n",
      "TimbreCovariance58    9839 non-null float64\n",
      "TimbreCovariance59    9839 non-null float64\n",
      "TimbreCovariance60    9839 non-null float64\n",
      "TimbreCovariance61    9839 non-null float64\n",
      "TimbreCovariance62    9839 non-null float64\n",
      "TimbreCovariance63    9839 non-null float64\n",
      "TimbreCovariance64    9839 non-null float64\n",
      "TimbreCovariance65    9839 non-null float64\n",
      "TimbreCovariance66    9839 non-null float64\n",
      "TimbreCovariance67    9839 non-null float64\n",
      "TimbreCovariance68    9839 non-null float64\n",
      "TimbreCovariance69    9839 non-null float64\n",
      "TimbreCovariance70    9839 non-null float64\n",
      "TimbreCovariance71    9839 non-null float64\n",
      "TimbreCovariance72    9839 non-null float64\n",
      "TimbreCovariance73    9839 non-null float64\n",
      "TimbreCovariance74    9839 non-null float64\n",
      "TimbreCovariance75    9839 non-null float64\n",
      "TimbreCovariance76    9839 non-null float64\n",
      "TimbreCovariance77    9839 non-null float64\n",
      "TimbreCovariance78    9839 non-null float64\n",
      "dtypes: float64(90), object(1)\n",
      "memory usage: 6.9+ MB\n"
     ]
    }
   ],
   "source": [
    "f = pd.read_csv('song_features.csv')\n",
    "f.info()"
   ]
  },
  {
   "cell_type": "code",
   "execution_count": 47,
   "metadata": {},
   "outputs": [],
   "source": [
    "np_f = f.drop('song_id',axis=1).values"
   ]
  },
  {
   "cell_type": "code",
   "execution_count": 50,
   "metadata": {},
   "outputs": [],
   "source": [
    "np_f[np.isnan(np_f)]= 0"
   ]
  },
  {
   "cell_type": "markdown",
   "metadata": {},
   "source": [
    "### PCA"
   ]
  },
  {
   "cell_type": "code",
   "execution_count": 53,
   "metadata": {},
   "outputs": [],
   "source": [
    "# reduce the features to 3 dimension and convert it to RGB\n",
    "from sklearn.decomposition import PCA\n",
    "pca = PCA(n_components=3,random_state=123)"
   ]
  },
  {
   "cell_type": "code",
   "execution_count": 54,
   "metadata": {},
   "outputs": [],
   "source": [
    "f_3d = pca.fit_transform(np_f)"
   ]
  },
  {
   "cell_type": "code",
   "execution_count": 55,
   "metadata": {},
   "outputs": [],
   "source": [
    "df_f3d = pd.DataFrame(f_3d)"
   ]
  },
  {
   "cell_type": "markdown",
   "metadata": {},
   "source": [
    "### Convert 3 dimension data to RGB"
   ]
  },
  {
   "cell_type": "code",
   "execution_count": 56,
   "metadata": {},
   "outputs": [],
   "source": [
    "from sklearn.preprocessing import MinMaxScaler"
   ]
  },
  {
   "cell_type": "code",
   "execution_count": 57,
   "metadata": {},
   "outputs": [],
   "source": [
    "df_rgb = MinMaxScaler(feature_range=(0, 255)).fit_transform(df_f3d)"
   ]
  },
  {
   "cell_type": "code",
   "execution_count": 58,
   "metadata": {},
   "outputs": [],
   "source": [
    "df_rgb=df_rgb.round()"
   ]
  },
  {
   "cell_type": "code",
   "execution_count": 59,
   "metadata": {},
   "outputs": [],
   "source": [
    "df_rgb = pd.DataFrame(df_rgb,columns=['r','g','b'])"
   ]
  },
  {
   "cell_type": "code",
   "execution_count": 60,
   "metadata": {},
   "outputs": [
    {
     "data": {
      "text/html": [
       "<div>\n",
       "<style scoped>\n",
       "    .dataframe tbody tr th:only-of-type {\n",
       "        vertical-align: middle;\n",
       "    }\n",
       "\n",
       "    .dataframe tbody tr th {\n",
       "        vertical-align: top;\n",
       "    }\n",
       "\n",
       "    .dataframe thead th {\n",
       "        text-align: right;\n",
       "    }\n",
       "</style>\n",
       "<table border=\"1\" class=\"dataframe\">\n",
       "  <thead>\n",
       "    <tr style=\"text-align: right;\">\n",
       "      <th></th>\n",
       "      <th>r</th>\n",
       "      <th>g</th>\n",
       "      <th>b</th>\n",
       "    </tr>\n",
       "  </thead>\n",
       "  <tbody>\n",
       "    <tr>\n",
       "      <th>0</th>\n",
       "      <td>12.0</td>\n",
       "      <td>105.0</td>\n",
       "      <td>107.0</td>\n",
       "    </tr>\n",
       "    <tr>\n",
       "      <th>1</th>\n",
       "      <td>21.0</td>\n",
       "      <td>96.0</td>\n",
       "      <td>112.0</td>\n",
       "    </tr>\n",
       "    <tr>\n",
       "      <th>2</th>\n",
       "      <td>13.0</td>\n",
       "      <td>105.0</td>\n",
       "      <td>108.0</td>\n",
       "    </tr>\n",
       "    <tr>\n",
       "      <th>3</th>\n",
       "      <td>22.0</td>\n",
       "      <td>95.0</td>\n",
       "      <td>113.0</td>\n",
       "    </tr>\n",
       "    <tr>\n",
       "      <th>4</th>\n",
       "      <td>12.0</td>\n",
       "      <td>101.0</td>\n",
       "      <td>107.0</td>\n",
       "    </tr>\n",
       "  </tbody>\n",
       "</table>\n",
       "</div>"
      ],
      "text/plain": [
       "      r      g      b\n",
       "0  12.0  105.0  107.0\n",
       "1  21.0   96.0  112.0\n",
       "2  13.0  105.0  108.0\n",
       "3  22.0   95.0  113.0\n",
       "4  12.0  101.0  107.0"
      ]
     },
     "execution_count": 60,
     "metadata": {},
     "output_type": "execute_result"
    }
   ],
   "source": [
    "df_rgb.head()"
   ]
  },
  {
   "cell_type": "markdown",
   "metadata": {},
   "source": [
    "### Calculate similarities"
   ]
  },
  {
   "cell_type": "code",
   "execution_count": 61,
   "metadata": {},
   "outputs": [],
   "source": [
    "# Use consine similarity to find the index of most similar songs\n",
    "from sklearn.metrics.pairwise import cosine_similarity"
   ]
  },
  {
   "cell_type": "code",
   "execution_count": 62,
   "metadata": {},
   "outputs": [],
   "source": [
    "s = cosine_similarity(df_rgb)"
   ]
  },
  {
   "cell_type": "code",
   "execution_count": 63,
   "metadata": {},
   "outputs": [],
   "source": [
    "s = np.argsort(s,axis=1)"
   ]
  },
  {
   "cell_type": "code",
   "execution_count": 64,
   "metadata": {},
   "outputs": [
    {
     "data": {
      "text/plain": [
       "array([[   0, 6905, 4425, ..., 4168, 2717, 2956],\n",
       "       [3810,    1,  411, ..., 3524, 3104, 1254],\n",
       "       [9231,    2, 2152, ..., 8069, 3413, 8186],\n",
       "       ...,\n",
       "       [9837, 9735, 2735, ...,  560, 8459, 4029],\n",
       "       [9838, 9030, 4853, ..., 5857, 9142, 2304],\n",
       "       [9839, 9519, 4682, ..., 6596, 2837, 3164]], dtype=int64)"
      ]
     },
     "execution_count": 64,
     "metadata": {},
     "output_type": "execute_result"
    }
   ],
   "source": [
    "s = s[:,-9:]\n",
    "s = s[:,::-1]\n",
    "s"
   ]
  },
  {
   "cell_type": "markdown",
   "metadata": {},
   "source": [
    "### Find song_id for recommended songs"
   ]
  },
  {
   "cell_type": "code",
   "execution_count": 70,
   "metadata": {},
   "outputs": [],
   "source": [
    "df = f.song_id\n",
    "result = df"
   ]
  },
  {
   "cell_type": "code",
   "execution_count": 71,
   "metadata": {},
   "outputs": [],
   "source": [
    "for i in range(9):\n",
    "    dfi = df.iloc[s[:,i]].reset_index()\n",
    "    dfi = dfi['song_id']\n",
    "    dfi = pd.DataFrame(dfi)\n",
    "    dfi.columns=['song_id'+str(i+1)]\n",
    "    result = pd.concat([result,dfi],sort=False,axis=1)"
   ]
  },
  {
   "cell_type": "code",
   "execution_count": 73,
   "metadata": {},
   "outputs": [],
   "source": [
    "df = result[['song_id']+['song_id'+str(i) for i in range(1,10)]]"
   ]
  },
  {
   "cell_type": "code",
   "execution_count": 75,
   "metadata": {},
   "outputs": [
    {
     "data": {
      "text/html": [
       "<div>\n",
       "<style scoped>\n",
       "    .dataframe tbody tr th:only-of-type {\n",
       "        vertical-align: middle;\n",
       "    }\n",
       "\n",
       "    .dataframe tbody tr th {\n",
       "        vertical-align: top;\n",
       "    }\n",
       "\n",
       "    .dataframe thead th {\n",
       "        text-align: right;\n",
       "    }\n",
       "</style>\n",
       "<table border=\"1\" class=\"dataframe\">\n",
       "  <thead>\n",
       "    <tr style=\"text-align: right;\">\n",
       "      <th></th>\n",
       "      <th>song_id</th>\n",
       "      <th>song_id1</th>\n",
       "      <th>song_id2</th>\n",
       "      <th>song_id3</th>\n",
       "      <th>song_id4</th>\n",
       "      <th>song_id5</th>\n",
       "      <th>song_id6</th>\n",
       "      <th>song_id7</th>\n",
       "      <th>song_id8</th>\n",
       "      <th>song_id9</th>\n",
       "    </tr>\n",
       "  </thead>\n",
       "  <tbody>\n",
       "    <tr>\n",
       "      <th>0</th>\n",
       "      <td>SOHNWIM12A67ADF7D9</td>\n",
       "      <td>SOHNWIM12A67ADF7D9</td>\n",
       "      <td>SOIKEMW12A8C13D826</td>\n",
       "      <td>SONVIOU12AB0181500</td>\n",
       "      <td>SOJRBZX12AB017D20E</td>\n",
       "      <td>SOPMAEU12A67AE0C81</td>\n",
       "      <td>SOZPAMO12A8C140C32</td>\n",
       "      <td>SOUWSEZ12A81C20F90</td>\n",
       "      <td>SOFCQGW12A58A7BC25</td>\n",
       "      <td>SOJDNPX12A6310E10F</td>\n",
       "    </tr>\n",
       "    <tr>\n",
       "      <th>1</th>\n",
       "      <td>SOECFIW12A8C144546</td>\n",
       "      <td>SOCVMXL12A6D4F6EE7</td>\n",
       "      <td>SOECFIW12A8C144546</td>\n",
       "      <td>SOOSVBQ12AAF3B360E</td>\n",
       "      <td>SONLCTW12A58A7BB70</td>\n",
       "      <td>SOMSTPF12AF729F337</td>\n",
       "      <td>SOTSTAA12AB017F16C</td>\n",
       "      <td>SOPFFKV12AF729FD3A</td>\n",
       "      <td>SOXKQUX12AF72AA82A</td>\n",
       "      <td>SOOPYMV12A6D4FC0D7</td>\n",
       "    </tr>\n",
       "    <tr>\n",
       "      <th>2</th>\n",
       "      <td>SOGWEOB12AB018A4D0</td>\n",
       "      <td>SOUPNIS12AF72A6FB0</td>\n",
       "      <td>SOGWEOB12AB018A4D0</td>\n",
       "      <td>SOILCEB12AF72AD86D</td>\n",
       "      <td>SOBPTVX12AB017B9AD</td>\n",
       "      <td>SOKWEAS12A8AE45448</td>\n",
       "      <td>SOWIGCV12A6D4F6A35</td>\n",
       "      <td>SOLBQLF12AB018612F</td>\n",
       "      <td>SODRMUG12A58A79A4E</td>\n",
       "      <td>SOXVXDS12AF72A4704</td>\n",
       "    </tr>\n",
       "    <tr>\n",
       "      <th>3</th>\n",
       "      <td>SOJGCRL12A8C144187</td>\n",
       "      <td>SOJGCRL12A8C144187</td>\n",
       "      <td>SOHLXSM12A6D4F9413</td>\n",
       "      <td>SOQKMWH12AF72A6B41</td>\n",
       "      <td>SOYKTWE12A8C13A164</td>\n",
       "      <td>SOVIIOV12A67020315</td>\n",
       "      <td>SOQDAYK12A8C13E11E</td>\n",
       "      <td>SODFMEY12A8C1353BD</td>\n",
       "      <td>SOPHQPE12AB0183798</td>\n",
       "      <td>SOFLMTG12A58A7D556</td>\n",
       "    </tr>\n",
       "    <tr>\n",
       "      <th>4</th>\n",
       "      <td>SOHNFBA12AB018CD1D</td>\n",
       "      <td>SOHNFBA12AB018CD1D</td>\n",
       "      <td>SOKTHPP12A8AE47F2A</td>\n",
       "      <td>SOWZOTZ12A6D4F8A0A</td>\n",
       "      <td>SOXKBHN12AB0185115</td>\n",
       "      <td>SOVTDJR12A8AE47EDA</td>\n",
       "      <td>SOKZRSH12A8C13CA3D</td>\n",
       "      <td>SOQZGYS12AF72A23DA</td>\n",
       "      <td>SOCNYYO12A6D4F910B</td>\n",
       "      <td>SOPSDYY12A8C13E1D2</td>\n",
       "    </tr>\n",
       "  </tbody>\n",
       "</table>\n",
       "</div>"
      ],
      "text/plain": [
       "              song_id            song_id1            song_id2  \\\n",
       "0  SOHNWIM12A67ADF7D9  SOHNWIM12A67ADF7D9  SOIKEMW12A8C13D826   \n",
       "1  SOECFIW12A8C144546  SOCVMXL12A6D4F6EE7  SOECFIW12A8C144546   \n",
       "2  SOGWEOB12AB018A4D0  SOUPNIS12AF72A6FB0  SOGWEOB12AB018A4D0   \n",
       "3  SOJGCRL12A8C144187  SOJGCRL12A8C144187  SOHLXSM12A6D4F9413   \n",
       "4  SOHNFBA12AB018CD1D  SOHNFBA12AB018CD1D  SOKTHPP12A8AE47F2A   \n",
       "\n",
       "             song_id3            song_id4            song_id5  \\\n",
       "0  SONVIOU12AB0181500  SOJRBZX12AB017D20E  SOPMAEU12A67AE0C81   \n",
       "1  SOOSVBQ12AAF3B360E  SONLCTW12A58A7BB70  SOMSTPF12AF729F337   \n",
       "2  SOILCEB12AF72AD86D  SOBPTVX12AB017B9AD  SOKWEAS12A8AE45448   \n",
       "3  SOQKMWH12AF72A6B41  SOYKTWE12A8C13A164  SOVIIOV12A67020315   \n",
       "4  SOWZOTZ12A6D4F8A0A  SOXKBHN12AB0185115  SOVTDJR12A8AE47EDA   \n",
       "\n",
       "             song_id6            song_id7            song_id8  \\\n",
       "0  SOZPAMO12A8C140C32  SOUWSEZ12A81C20F90  SOFCQGW12A58A7BC25   \n",
       "1  SOTSTAA12AB017F16C  SOPFFKV12AF729FD3A  SOXKQUX12AF72AA82A   \n",
       "2  SOWIGCV12A6D4F6A35  SOLBQLF12AB018612F  SODRMUG12A58A79A4E   \n",
       "3  SOQDAYK12A8C13E11E  SODFMEY12A8C1353BD  SOPHQPE12AB0183798   \n",
       "4  SOKZRSH12A8C13CA3D  SOQZGYS12AF72A23DA  SOCNYYO12A6D4F910B   \n",
       "\n",
       "             song_id9  \n",
       "0  SOJDNPX12A6310E10F  \n",
       "1  SOOPYMV12A6D4FC0D7  \n",
       "2  SOXVXDS12AF72A4704  \n",
       "3  SOFLMTG12A58A7D556  \n",
       "4  SOPSDYY12A8C13E1D2  "
      ]
     },
     "execution_count": 75,
     "metadata": {},
     "output_type": "execute_result"
    }
   ],
   "source": [
    "df.head()"
   ]
  },
  {
   "cell_type": "markdown",
   "metadata": {},
   "source": [
    "### Save to csv"
   ]
  },
  {
   "cell_type": "code",
   "execution_count": 76,
   "metadata": {},
   "outputs": [],
   "source": [
    "similarity = pd.concat([df,df_rgb],sort=False,axis=1)"
   ]
  },
  {
   "cell_type": "code",
   "execution_count": 77,
   "metadata": {},
   "outputs": [
    {
     "name": "stdout",
     "output_type": "stream",
     "text": [
      "<class 'pandas.core.frame.DataFrame'>\n",
      "Int64Index: 9840 entries, 0 to 9839\n",
      "Data columns (total 13 columns):\n",
      "song_id     9839 non-null object\n",
      "song_id1    9839 non-null object\n",
      "song_id2    9839 non-null object\n",
      "song_id3    9837 non-null object\n",
      "song_id4    9839 non-null object\n",
      "song_id5    9839 non-null object\n",
      "song_id6    9838 non-null object\n",
      "song_id7    9840 non-null object\n",
      "song_id8    9839 non-null object\n",
      "song_id9    9840 non-null object\n",
      "r           9840 non-null float64\n",
      "g           9840 non-null float64\n",
      "b           9840 non-null float64\n",
      "dtypes: float64(3), object(10)\n",
      "memory usage: 1.4+ MB\n"
     ]
    }
   ],
   "source": [
    "similarity.info()"
   ]
  },
  {
   "cell_type": "code",
   "execution_count": 200,
   "metadata": {},
   "outputs": [],
   "source": [
    "similarity.to_csv('similarity.csv')"
   ]
  }
 ],
 "metadata": {
  "kernelspec": {
   "display_name": "Python 3",
   "language": "python",
   "name": "python3"
  },
  "language_info": {
   "codemirror_mode": {
    "name": "ipython",
    "version": 3
   },
   "file_extension": ".py",
   "mimetype": "text/x-python",
   "name": "python",
   "nbconvert_exporter": "python",
   "pygments_lexer": "ipython3",
   "version": "3.6.5"
  }
 },
 "nbformat": 4,
 "nbformat_minor": 2
}
